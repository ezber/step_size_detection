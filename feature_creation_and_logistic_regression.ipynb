{
 "cells": [
  {
   "cell_type": "markdown",
   "metadata": {},
   "source": [
    "# Feature creation for step detection using Machine Learning."
   ]
  },
  {
   "cell_type": "markdown",
   "metadata": {},
   "source": [
    "I obtained the overall trajectory of a single spots using Regression in the previous notebook, here I will create new features from these trajectories to create a new algorithm for step detection. <br>\n",
    "\n",
    "My ML algorithm will have a binary target variable of either 1 or 0, 1 means that the protein takes a step at that frame in the movie. For the algorithm to detect the steps I will generate many features using the position -time (frame) plot that I have, because whether the protein steps depends on the pixel difference between where the step happens and its surrounding; I decided that it will have the following features:<br>\n",
    "<br>\n",
    "pos: the position of the protein (y coordinate).<br>\n",
    "slope: difference between the current position and the previous position.<br>\n",
    "second_slope: difference between the current position and position two frames ago.<br>\n",
    "third_slope: difference between the current position and position three frames ago.<br>\n",
    "fourth_slope: difference between the current position and position four frames ago.<br>\n",
    "forward_slope: difference between the current position and the next position.<br>\n",
    "tanhx: tanh of the difference between the previous position and the next position.<br>\n",
    "tanhx2: tanh of the difference between the two previous position and the second next position.<br>\n",
    "sinx: sinx of the difference between the previous position and the next position.<br>\n",
    "<br>\n",
    "I have 9 columns to feed the algorithm in total.<br>\n",
    "I wrote here a function that takes the trajectory as the argument and returns a features dataframe to reuse it to generate features for different trajectories."
   ]
  },
  {
   "cell_type": "code",
   "execution_count": 293,
   "metadata": {},
   "outputs": [],
   "source": [
    "def create_features(trajectory):\n",
    "    overall_position = np.sqrt(trajectory[1]**2 + trajectory[0]**2)\n",
    "    \n",
    "    pos = []\n",
    "    slope = []\n",
    "    second_slope = []\n",
    "    third_slope = []\n",
    "    fourth_slope = []\n",
    "    forward_slope = []\n",
    "    tanhx = []\n",
    "    tanhx2 = []\n",
    "    sinx = []\n",
    "    target = []\n",
    "    step_index = 0\n",
    "    for i in range(4,len(overall_position)-3): #define the range such that the data can be generated for each function as we don't wanna call -2nd frame etc.\n",
    "        pos = np.append(pos,overall_position[i])\n",
    "        slope = np.append(slope,overall_position[i-1] - overall_position[i])\n",
    "        second_slope = np.append(second_slope,overall_position[i-2] - overall_position[i])\n",
    "        third_slope = np.append(third_slope,overall_position[i-3] - overall_position[i])\n",
    "        fourth_slope = np.append(fourth_slope,overall_position[i-4] - overall_position[i])\n",
    "        forward_slope = np.append(forward_slope,overall_position[i+1] - overall_position[i])\n",
    "        tanhx = np.append(tanhx, np.tanh(overall_position[i+1] - overall_position[i-1]))\n",
    "        tanhx2 = np.append(tanhx2, np.tanh(overall_position[i+2] - overall_position[i-2]))\n",
    "        sinx = np.append(sinx, np.sin(overall_position[i+1] - overall_position[i-1]))\n",
    "   \n",
    "\n",
    "    features = pd.DataFrame(data = [pos,slope,second_slope,third_slope,fourth_slope,forward_slope,tanhx,tanhx2,sinx]).T\n",
    "    features.columns = ['pos','slope','second_slope','third_slope','fourth_slope','forward_slope','tanhx','tanhx2','sinx']\n",
    "    \n",
    "    return features\n"
   ]
  },
  {
   "cell_type": "markdown",
   "metadata": {},
   "source": [
    "Below, I create a target dataframe which is either 0 (no step) or 1."
   ]
  },
  {
   "cell_type": "code",
   "execution_count": 294,
   "metadata": {},
   "outputs": [],
   "source": [
    "for i in range(4,len(overall_position)-3): #iterating over the position to create the target flag.\n",
    "    if i + 1  == step_alerts[step_index]:\n",
    "        target = np.append(target, 1)\n",
    "        if step_index < len(step_alerts) - 1:\n",
    "            step_index = step_index + 1\n",
    "    else:\n",
    "        target = np.append(target, 0)\n",
    "target = pd.DataFrame(target,columns = ['target'])"
   ]
  },
  {
   "cell_type": "code",
   "execution_count": 295,
   "metadata": {},
   "outputs": [],
   "source": [
    "features = create_features(trajectory)"
   ]
  },
  {
   "cell_type": "code",
   "execution_count": 296,
   "metadata": {},
   "outputs": [
    {
     "data": {
      "text/html": [
       "<div>\n",
       "<style scoped>\n",
       "    .dataframe tbody tr th:only-of-type {\n",
       "        vertical-align: middle;\n",
       "    }\n",
       "\n",
       "    .dataframe tbody tr th {\n",
       "        vertical-align: top;\n",
       "    }\n",
       "\n",
       "    .dataframe thead th {\n",
       "        text-align: right;\n",
       "    }\n",
       "</style>\n",
       "<table border=\"1\" class=\"dataframe\">\n",
       "  <thead>\n",
       "    <tr style=\"text-align: right;\">\n",
       "      <th></th>\n",
       "      <th>pos</th>\n",
       "      <th>slope</th>\n",
       "      <th>second_slope</th>\n",
       "      <th>third_slope</th>\n",
       "      <th>fourth_slope</th>\n",
       "      <th>forward_slope</th>\n",
       "      <th>tanhx</th>\n",
       "      <th>tanhx2</th>\n",
       "      <th>sinx</th>\n",
       "    </tr>\n",
       "  </thead>\n",
       "  <tbody>\n",
       "    <tr>\n",
       "      <th>0</th>\n",
       "      <td>142.615650</td>\n",
       "      <td>0.559946</td>\n",
       "      <td>1.076046</td>\n",
       "      <td>1.335530</td>\n",
       "      <td>1.292465</td>\n",
       "      <td>-0.782568</td>\n",
       "      <td>-0.872275</td>\n",
       "      <td>-0.972054</td>\n",
       "      <td>-0.974057</td>\n",
       "    </tr>\n",
       "    <tr>\n",
       "      <th>1</th>\n",
       "      <td>141.833082</td>\n",
       "      <td>0.782568</td>\n",
       "      <td>1.342514</td>\n",
       "      <td>1.858614</td>\n",
       "      <td>2.118098</td>\n",
       "      <td>-0.269657</td>\n",
       "      <td>-0.782670</td>\n",
       "      <td>-0.938741</td>\n",
       "      <td>-0.868528</td>\n",
       "    </tr>\n",
       "    <tr>\n",
       "      <th>2</th>\n",
       "      <td>141.563425</td>\n",
       "      <td>0.269657</td>\n",
       "      <td>1.052225</td>\n",
       "      <td>1.612171</td>\n",
       "      <td>2.128271</td>\n",
       "      <td>-0.115169</td>\n",
       "      <td>-0.366891</td>\n",
       "      <td>-0.953238</td>\n",
       "      <td>-0.375398</td>\n",
       "    </tr>\n",
       "    <tr>\n",
       "      <th>3</th>\n",
       "      <td>141.448256</td>\n",
       "      <td>0.115169</td>\n",
       "      <td>0.384826</td>\n",
       "      <td>1.167394</td>\n",
       "      <td>1.727340</td>\n",
       "      <td>-0.698694</td>\n",
       "      <td>-0.671716</td>\n",
       "      <td>-0.819508</td>\n",
       "      <td>-0.726945</td>\n",
       "    </tr>\n",
       "    <tr>\n",
       "      <th>4</th>\n",
       "      <td>140.749562</td>\n",
       "      <td>0.698694</td>\n",
       "      <td>0.813863</td>\n",
       "      <td>1.083520</td>\n",
       "      <td>1.866088</td>\n",
       "      <td>-0.071799</td>\n",
       "      <td>-0.647216</td>\n",
       "      <td>-0.695270</td>\n",
       "      <td>-0.696489</td>\n",
       "    </tr>\n",
       "  </tbody>\n",
       "</table>\n",
       "</div>"
      ],
      "text/plain": [
       "          pos     slope  second_slope  third_slope  fourth_slope  \\\n",
       "0  142.615650  0.559946      1.076046     1.335530      1.292465   \n",
       "1  141.833082  0.782568      1.342514     1.858614      2.118098   \n",
       "2  141.563425  0.269657      1.052225     1.612171      2.128271   \n",
       "3  141.448256  0.115169      0.384826     1.167394      1.727340   \n",
       "4  140.749562  0.698694      0.813863     1.083520      1.866088   \n",
       "\n",
       "   forward_slope     tanhx    tanhx2      sinx  \n",
       "0      -0.782568 -0.872275 -0.972054 -0.974057  \n",
       "1      -0.269657 -0.782670 -0.938741 -0.868528  \n",
       "2      -0.115169 -0.366891 -0.953238 -0.375398  \n",
       "3      -0.698694 -0.671716 -0.819508 -0.726945  \n",
       "4      -0.071799 -0.647216 -0.695270 -0.696489  "
      ]
     },
     "execution_count": 296,
     "metadata": {},
     "output_type": "execute_result"
    }
   ],
   "source": [
    "features.head()"
   ]
  },
  {
   "cell_type": "code",
   "execution_count": 297,
   "metadata": {},
   "outputs": [
    {
     "data": {
      "text/html": [
       "<div>\n",
       "<style scoped>\n",
       "    .dataframe tbody tr th:only-of-type {\n",
       "        vertical-align: middle;\n",
       "    }\n",
       "\n",
       "    .dataframe tbody tr th {\n",
       "        vertical-align: top;\n",
       "    }\n",
       "\n",
       "    .dataframe thead th {\n",
       "        text-align: right;\n",
       "    }\n",
       "</style>\n",
       "<table border=\"1\" class=\"dataframe\">\n",
       "  <thead>\n",
       "    <tr style=\"text-align: right;\">\n",
       "      <th></th>\n",
       "      <th>target</th>\n",
       "    </tr>\n",
       "  </thead>\n",
       "  <tbody>\n",
       "    <tr>\n",
       "      <th>0</th>\n",
       "      <td>0.0</td>\n",
       "    </tr>\n",
       "    <tr>\n",
       "      <th>1</th>\n",
       "      <td>1.0</td>\n",
       "    </tr>\n",
       "    <tr>\n",
       "      <th>2</th>\n",
       "      <td>0.0</td>\n",
       "    </tr>\n",
       "    <tr>\n",
       "      <th>3</th>\n",
       "      <td>0.0</td>\n",
       "    </tr>\n",
       "    <tr>\n",
       "      <th>4</th>\n",
       "      <td>1.0</td>\n",
       "    </tr>\n",
       "  </tbody>\n",
       "</table>\n",
       "</div>"
      ],
      "text/plain": [
       "   target\n",
       "0     0.0\n",
       "1     1.0\n",
       "2     0.0\n",
       "3     0.0\n",
       "4     1.0"
      ]
     },
     "execution_count": 297,
     "metadata": {},
     "output_type": "execute_result"
    }
   ],
   "source": [
    "target.head()"
   ]
  },
  {
   "cell_type": "markdown",
   "metadata": {},
   "source": [
    "There are not many 1s in my target variable, I am going to oversample these columns to account for this imbalance."
   ]
  },
  {
   "cell_type": "code",
   "execution_count": 78,
   "metadata": {},
   "outputs": [
    {
     "name": "stderr",
     "output_type": "stream",
     "text": [
      "/Users/enescaglar/anaconda3/lib/python3.7/site-packages/sklearn/utils/validation.py:724: DataConversionWarning: A column-vector y was passed when a 1d array was expected. Please change the shape of y to (n_samples, ), for example using ravel().\n",
      "  y = column_or_1d(y, warn=True)\n"
     ]
    }
   ],
   "source": [
    "from imblearn.over_sampling import RandomOverSampler,SMOTE\n",
    "from sklearn.model_selection import train_test_split\n",
    "\n",
    "#os = SMOTE(random_state=0)\n",
    "os = RandomOverSampler()\n",
    "\n",
    "columns = features.columns\n",
    "os_data_X,os_data_y=os.fit_sample(features, target)\n",
    "os_data_X = pd.DataFrame(data=os_data_X,columns=columns )\n",
    "os_data_y= pd.DataFrame(data=os_data_y,columns=['target'])"
   ]
  },
  {
   "cell_type": "markdown",
   "metadata": {},
   "source": [
    "I am using Logistic Regression to categorize the frame numbers along the trajectory according to whether a step accurs there."
   ]
  },
  {
   "cell_type": "code",
   "execution_count": 88,
   "metadata": {},
   "outputs": [
    {
     "name": "stderr",
     "output_type": "stream",
     "text": [
      "/Users/enescaglar/anaconda3/lib/python3.7/site-packages/sklearn/utils/validation.py:724: DataConversionWarning: A column-vector y was passed when a 1d array was expected. Please change the shape of y to (n_samples, ), for example using ravel().\n",
      "  y = column_or_1d(y, warn=True)\n"
     ]
    },
    {
     "data": {
      "text/plain": [
       "0.9666666666666667"
      ]
     },
     "execution_count": 88,
     "metadata": {},
     "output_type": "execute_result"
    }
   ],
   "source": [
    "from sklearn.metrics import confusion_matrix\n",
    "from sklearn.linear_model import LogisticRegression\n",
    "\n",
    "X_train, X_test, y_train, y_test = train_test_split(os_data_X, os_data_y, test_size=0.2, random_state=0)\n",
    "\n",
    "lin = LogisticRegression(solver='lbfgs',multi_class='ovr')\n",
    "\n",
    "lin.fit(X_train,y_train)\n",
    "\n",
    "y_pred = lin.predict(X_test)\n",
    "\n",
    "lin.score(X_test,y_test)"
   ]
  },
  {
   "cell_type": "markdown",
   "metadata": {},
   "source": [
    "Even with very few training data the algorithm is very robust and there is only 1 false positive identification according to the confusion matrix. I will see how the algorithm performs on a new trace now."
   ]
  },
  {
   "cell_type": "code",
   "execution_count": 90,
   "metadata": {},
   "outputs": [
    {
     "data": {
      "text/plain": [
       "array([[16,  1],\n",
       "       [ 0, 13]])"
      ]
     },
     "execution_count": 90,
     "metadata": {},
     "output_type": "execute_result"
    }
   ],
   "source": [
    "confusion_matrix(y_test,y_pred)"
   ]
  },
  {
   "cell_type": "code",
   "execution_count": 201,
   "metadata": {},
   "outputs": [],
   "source": [
    "trajectory = extract_trajectory(2) #the new trace obtained from another image file."
   ]
  },
  {
   "cell_type": "markdown",
   "metadata": {},
   "source": [
    "This specific trace needs to be inverted because the forward position depends on the positioning of the molecular tracks (axonemes or microtubules). For now I am only analyzing the forward steps but backstepping also exist and the algorithm has to be trained for them too."
   ]
  },
  {
   "cell_type": "code",
   "execution_count": 211,
   "metadata": {},
   "outputs": [
    {
     "data": {
      "text/plain": [
       "[<matplotlib.lines.Line2D at 0x1c5859d780>]"
      ]
     },
     "execution_count": 211,
     "metadata": {},
     "output_type": "execute_result"
    },
    {
     "data": {
      "image/png": "[encoded data removed]",
      "text/plain": [
       "<Figure size 432x288 with 1 Axes>"
      ]
     },
     "metadata": {
      "needs_background": "light"
     },
     "output_type": "display_data"
    }
   ],
   "source": [
    "trajectory = pd.DataFrame(32- trajectory) \n",
    "plt.plot(np.sqrt(trajectory[1]**2 + trajectory[0]**2))"
   ]
  },
  {
   "cell_type": "code",
   "execution_count": 212,
   "metadata": {},
   "outputs": [],
   "source": [
    "features = create_features(trajectory)"
   ]
  },
  {
   "cell_type": "code",
   "execution_count": 213,
   "metadata": {},
   "outputs": [
    {
     "data": {
      "text/html": [
       "<div>\n",
       "<style scoped>\n",
       "    .dataframe tbody tr th:only-of-type {\n",
       "        vertical-align: middle;\n",
       "    }\n",
       "\n",
       "    .dataframe tbody tr th {\n",
       "        vertical-align: top;\n",
       "    }\n",
       "\n",
       "    .dataframe thead th {\n",
       "        text-align: right;\n",
       "    }\n",
       "</style>\n",
       "<table border=\"1\" class=\"dataframe\">\n",
       "  <thead>\n",
       "    <tr style=\"text-align: right;\">\n",
       "      <th></th>\n",
       "      <th>slope</th>\n",
       "      <th>second_slope</th>\n",
       "      <th>third_slope</th>\n",
       "      <th>fourth_slope</th>\n",
       "      <th>forward_slope</th>\n",
       "      <th>tanhx</th>\n",
       "      <th>sinx</th>\n",
       "    </tr>\n",
       "  </thead>\n",
       "  <tbody>\n",
       "    <tr>\n",
       "      <th>0</th>\n",
       "      <td>-0.303059</td>\n",
       "      <td>-0.204475</td>\n",
       "      <td>-0.236775</td>\n",
       "      <td>-0.113405</td>\n",
       "      <td>-0.170042</td>\n",
       "      <td>0.132238</td>\n",
       "      <td>0.132625</td>\n",
       "    </tr>\n",
       "    <tr>\n",
       "      <th>1</th>\n",
       "      <td>0.170042</td>\n",
       "      <td>-0.133017</td>\n",
       "      <td>-0.034433</td>\n",
       "      <td>-0.066733</td>\n",
       "      <td>-0.281258</td>\n",
       "      <td>-0.422967</td>\n",
       "      <td>-0.436136</td>\n",
       "    </tr>\n",
       "    <tr>\n",
       "      <th>2</th>\n",
       "      <td>0.281258</td>\n",
       "      <td>0.451300</td>\n",
       "      <td>0.148241</td>\n",
       "      <td>0.246825</td>\n",
       "      <td>-0.197517</td>\n",
       "      <td>-0.445262</td>\n",
       "      <td>-0.460692</td>\n",
       "    </tr>\n",
       "    <tr>\n",
       "      <th>3</th>\n",
       "      <td>0.197517</td>\n",
       "      <td>0.478775</td>\n",
       "      <td>0.648817</td>\n",
       "      <td>0.345758</td>\n",
       "      <td>-0.571397</td>\n",
       "      <td>-0.646297</td>\n",
       "      <td>-0.695355</td>\n",
       "    </tr>\n",
       "    <tr>\n",
       "      <th>4</th>\n",
       "      <td>0.571397</td>\n",
       "      <td>0.768914</td>\n",
       "      <td>1.050172</td>\n",
       "      <td>1.220214</td>\n",
       "      <td>0.027597</td>\n",
       "      <td>-0.495859</td>\n",
       "      <td>-0.517391</td>\n",
       "    </tr>\n",
       "  </tbody>\n",
       "</table>\n",
       "</div>"
      ],
      "text/plain": [
       "      slope  second_slope  third_slope  fourth_slope  forward_slope     tanhx  \\\n",
       "0 -0.303059     -0.204475    -0.236775     -0.113405      -0.170042  0.132238   \n",
       "1  0.170042     -0.133017    -0.034433     -0.066733      -0.281258 -0.422967   \n",
       "2  0.281258      0.451300     0.148241      0.246825      -0.197517 -0.445262   \n",
       "3  0.197517      0.478775     0.648817      0.345758      -0.571397 -0.646297   \n",
       "4  0.571397      0.768914     1.050172      1.220214       0.027597 -0.495859   \n",
       "\n",
       "       sinx  \n",
       "0  0.132625  \n",
       "1 -0.436136  \n",
       "2 -0.460692  \n",
       "3 -0.695355  \n",
       "4 -0.517391  "
      ]
     },
     "execution_count": 213,
     "metadata": {},
     "output_type": "execute_result"
    }
   ],
   "source": [
    "features.head() #checking the features dataframe to make sure that everything looks good."
   ]
  },
  {
   "cell_type": "code",
   "execution_count": 214,
   "metadata": {},
   "outputs": [],
   "source": [
    "step_alerts = lin.predict(features) "
   ]
  },
  {
   "cell_type": "code",
   "execution_count": 215,
   "metadata": {},
   "outputs": [],
   "source": [
    "skipped_frames = [0,0,0,0] \n",
    "skipped_frames_end = [0,0,0]\n",
    "step_alerts = np.concatenate((skipped_frames,step_alerts,skipped_frames_end)) #adding the missing frames due to feature generation."
   ]
  },
  {
   "cell_type": "code",
   "execution_count": 225,
   "metadata": {},
   "outputs": [
    {
     "data": {
      "text/plain": [
       "array([0., 0., 0., 0., 0., 0., 0., 0., 1., 0., 0., 0., 0., 0., 0., 0., 0.,\n",
       "       0., 0., 0., 0., 0., 0., 0., 0., 0., 0., 0., 0., 0., 0., 0., 0., 0.,\n",
       "       0., 0., 0., 0., 0., 0., 0., 0., 0., 1., 0., 1., 0., 1., 0., 0., 0.,\n",
       "       0., 0., 0., 0., 0., 0., 0., 0., 0., 0., 0., 0., 0., 0., 0., 0., 0.,\n",
       "       0., 0., 0., 0., 0., 0., 0., 0., 0., 0., 0., 0., 0., 0., 0., 0., 0.,\n",
       "       0., 0., 0., 1., 1., 0., 1., 0., 0., 0., 0., 0., 0., 0., 0.])"
      ]
     },
     "execution_count": 225,
     "metadata": {},
     "output_type": "execute_result"
    }
   ],
   "source": [
    "step_alerts"
   ]
  },
  {
   "cell_type": "markdown",
   "metadata": {},
   "source": [
    "I will plot the trajectory and the flags at the same time to investigate if the algorithm works as expected. Note that this movie has less pixels in total and it looks more noisy for this reason compared to the initial trace.\n"
   ]
  },
  {
   "cell_type": "code",
   "execution_count": 226,
   "metadata": {},
   "outputs": [
    {
     "data": {
      "image/png": "[encoded data removed]",
      "text/plain": [
       "<Figure size 432x288 with 1 Axes>"
      ]
     },
     "metadata": {
      "needs_background": "light"
     },
     "output_type": "display_data"
    }
   ],
   "source": [
    "fig, ax = plt.subplots()\n",
    "\n",
    "plt.plot(np.sqrt(trajectory[1]**2 + trajectory[0]**2))\n",
    "for index,rows in trajectory.iterrows():\n",
    "    if step_alerts[index] == 1:\n",
    "        ax.scatter([index], [np.sqrt(trajectory[1].loc[index]**2 + trajectory[0].loc[index]**2)])\n",
    "\n"
   ]
  },
  {
   "cell_type": "markdown",
   "metadata": {},
   "source": [
    "The algorithm works quite efficiently except for finding the backward steps. It gets confused when there is a backstep (around frame # 90). This step finding algorithm was obtained using very few training data. Once the training is done with many more trajectories, the resulting step finding algorithm will be much more efficient not only in finding the forward steps but also the backward steps."
   ]
  },
  {
   "cell_type": "code",
   "execution_count": null,
   "metadata": {},
   "outputs": [],
   "source": []
  }
 ],
 "metadata": {
  "kernelspec": {
   "display_name": "Python 3",
   "language": "python",
   "name": "python3"
  },
  "language_info": {
   "codemirror_mode": {
    "name": "ipython",
    "version": 3
   },
   "file_extension": ".py",
   "mimetype": "text/x-python",
   "name": "python",
   "nbconvert_exporter": "python",
   "pygments_lexer": "ipython3",
   "version": "3.7.3"
  }
 },
 "nbformat": 4,
 "nbformat_minor": 2
}
